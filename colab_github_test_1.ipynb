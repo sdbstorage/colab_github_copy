{
  "nbformat": 4,
  "nbformat_minor": 0,
  "metadata": {
    "colab": {
      "provenance": [],
      "authorship_tag": "ABX9TyN1krt8FyGPkjibYbviL4hb",
      "include_colab_link": true
    },
    "kernelspec": {
      "name": "python3",
      "display_name": "Python 3"
    },
    "language_info": {
      "name": "python"
    }
  },
  "cells": [
    {
      "cell_type": "markdown",
      "metadata": {
        "id": "view-in-github",
        "colab_type": "text"
      },
      "source": [
        "<a href=\"https://colab.research.google.com/github/sdbstorage/colab_github_copy/blob/main/colab_github_test_1.ipynb\" target=\"_parent\"><img src=\"https://colab.research.google.com/assets/colab-badge.svg\" alt=\"Open In Colab\"/></a>"
      ]
    },
    {
      "cell_type": "code",
      "execution_count": null,
      "metadata": {
        "id": "ipNxOtQwLdjU"
      },
      "outputs": [],
      "source": [
        "# git connect"
      ]
    },
    {
      "cell_type": "code",
      "source": [],
      "metadata": {
        "id": "RrFHO-xzLjYL"
      },
      "execution_count": null,
      "outputs": []
    },
    {
      "cell_type": "code",
      "source": [
        "from google.colab import drive\n",
        "drive.mount('/content/drive')"
      ],
      "metadata": {
        "colab": {
          "base_uri": "https://localhost:8080/"
        },
        "id": "jH-r_xnZLmZP",
        "outputId": "531aab38-5bbb-47b5-e68f-fa72097c66fd"
      },
      "execution_count": 1,
      "outputs": [
        {
          "output_type": "stream",
          "name": "stdout",
          "text": [
            "Mounted at /content/drive\n"
          ]
        }
      ]
    },
    {
      "cell_type": "code",
      "source": [
        "# prompt: write code for opencv python\n",
        "\n",
        "import cv2\n",
        "import matplotlib.pyplot as plt\n",
        "from google.colab import drive\n",
        "drive.mount('/content/drive')\n",
        "\n",
        "# Load the image\n",
        "image_path = '/content/drive/My Drive/your_image.jpg' # Replace with your image path\n",
        "try:\n",
        "  img = cv2.imread(image_path)\n",
        "\n",
        "  if img is None:\n",
        "    raise FileNotFoundError(f\"Error: Unable to read the image at {image_path}. Please check the file path and ensure the image file exists and is readable.\")\n",
        "\n",
        "  # Convert the image from BGR (OpenCV default) to RGB for matplotlib\n",
        "  img_rgb = cv2.cvtColor(img, cv2.COLOR_BGR2RGB)\n",
        "\n",
        "  # Display the image using matplotlib\n",
        "  plt.imshow(img_rgb)\n",
        "  plt.title(\"Original Image\")\n",
        "  plt.axis('off')  # Turn off axis numbers and ticks\n",
        "  plt.show()\n",
        "\n",
        "  # Example: Convert the image to grayscale\n",
        "  gray_img = cv2.cvtColor(img, cv2.COLOR_BGR2GRAY)\n",
        "\n",
        "  # Display the grayscale image using matplotlib\n",
        "  plt.imshow(gray_img, cmap='gray') # Use 'gray' colormap for grayscale images\n",
        "  plt.title(\"Grayscale Image\")\n",
        "  plt.axis('off')\n",
        "  plt.show()\n",
        "\n",
        "  # Example: Save the grayscale image\n",
        "  output_path = '/content/drive/My Drive/gray_image.jpg'\n",
        "  cv2.imwrite(output_path, gray_img)\n",
        "  print(f\"Grayscale image saved to: {output_path}\")\n",
        "\n",
        "except FileNotFoundError as e:\n",
        "    print(e)\n",
        "except Exception as e:\n",
        "    print(f\"An error occurred: {e}\")\n"
      ],
      "metadata": {
        "id": "5ym_nX3yLnKg"
      },
      "execution_count": null,
      "outputs": []
    }
  ]
}